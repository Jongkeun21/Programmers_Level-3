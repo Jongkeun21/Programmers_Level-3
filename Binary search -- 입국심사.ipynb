{
 "cells": [
  {
   "cell_type": "code",
   "execution_count": null,
   "metadata": {},
   "outputs": [],
   "source": [
    "def solution(n, times) :\n",
    "    length = len(times)\n",
    "    mini = 1\n",
    "    maxi = max(times)*n\n",
    "    answer = maxi\n",
    "    \n",
    "    while mini <= maxi :\n",
    "        total = 0\n",
    "        mid = (mini+maxi)//2\n",
    "        \n",
    "        for i in range(length) :\n",
    "            total += mid//times[length]\n",
    "            \n",
    "        if total < n :\n",
    "            mini = mid+1\n",
    "        else :\n",
    "            if mid <= answer :\n",
    "                answer = mid\n",
    "                \n",
    "            maxi = mid-1\n",
    "            \n",
    "    return answer"
   ]
  }
 ],
 "metadata": {
  "kernelspec": {
   "display_name": "Python 3",
   "language": "python",
   "name": "python3"
  },
  "language_info": {
   "codemirror_mode": {
    "name": "ipython",
    "version": 3
   },
   "file_extension": ".py",
   "mimetype": "text/x-python",
   "name": "python",
   "nbconvert_exporter": "python",
   "pygments_lexer": "ipython3",
   "version": "3.5.2"
  }
 },
 "nbformat": 4,
 "nbformat_minor": 2
}
