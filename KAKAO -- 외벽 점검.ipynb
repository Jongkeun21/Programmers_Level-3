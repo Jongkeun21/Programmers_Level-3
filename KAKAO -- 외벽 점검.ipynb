{
 "cells": [
  {
   "cell_type": "markdown",
   "metadata": {},
   "source": [
    "외벽의 총 둘레는 n미터, 취약 지점 보유\n",
    "주기적으로 취약 지점을 점검, 점검 시간 1시간\n",
    "최소한의 투자로 취약 지점 점검, 나머지는 내부 공사\n",
    "취약 지점의 위치는 시계 방향으로 떨어진 거리를 나타냄\n",
    "이동은 시계, 반시계 방향 모두 가능\n",
    "\n",
    "외벽의 길이 n, 취약 지점의 위치 배열 weak, 각 친구가 1시간 동안 이동 가능한 거리 배열 dist\n",
    "취약 지점 점검을 위해 보내야 하는 친구 수의 최솟값 return"
   ]
  },
  {
   "cell_type": "markdown",
   "metadata": {},
   "source": [
    "1. 위치가 같은 취약 지점은 주어지지 않음\n",
    "2. 취약 지점의 위치는 오름차순 정렬\n",
    "3. 취약 지점을 전부 점검할 수 없는 경우 -1 return"
   ]
  },
  {
   "cell_type": "code",
   "execution_count": 2,
   "metadata": {},
   "outputs": [],
   "source": [
    "from collections import deque\n",
    "from itertools import permutations\n",
    "\n",
    "def next_(queue, distance, point) :\n",
    "    num = queue[point]\n",
    "\n",
    "    for i in range(1, distance+1) :\n",
    "        try :\n",
    "            if queue[point+1] == num+i :\n",
    "                point += 1\n",
    "        except :\n",
    "            break\n",
    "            \n",
    "    return point + 1\n",
    "\n",
    "def solution(n, weak, dist) :\n",
    "    weak = deque(weak)\n",
    "    dist.sort(reverse=True)\n",
    "    \n",
    "    for i in range(1, len(dist)+1) :\n",
    "        if i == 1 :\n",
    "            friend = dist[0]\n",
    "\n",
    "            for _ in range(len(weak)) :\n",
    "                if (weak[-1]-weak[0]) <= friend :\n",
    "                    return 1\n",
    "                else :\n",
    "                    weak.rotate(-1)\n",
    "                    weak[-1] += n\n",
    "                    \n",
    "            weak = deque(map(lambda x: x%n, weak))\n",
    "            \n",
    "        else :\n",
    "            friends_set = list(permutations(dist[:i], i))\n",
    "            \n",
    "            for set_ in friends_set :\n",
    "                for _ in range(len(weak)) :\n",
    "                    point = 0\n",
    "                    \n",
    "                    for friend in set_ :\n",
    "                        point = next_(weak, friend, point)\n",
    "                        \n",
    "                        if point == len(weak) :\n",
    "                            return i\n",
    "                    \n",
    "                    weak.rotate(-1)\n",
    "                    weak[-1] += n\n",
    "                    \n",
    "                weak = deque(map(lambda x: x%n, weak))\n",
    "                \n",
    "    return -1"
   ]
  }
 ],
 "metadata": {
  "kernelspec": {
   "display_name": "Python 3",
   "language": "python",
   "name": "python3"
  },
  "language_info": {
   "codemirror_mode": {
    "name": "ipython",
    "version": 3
   },
   "file_extension": ".py",
   "mimetype": "text/x-python",
   "name": "python",
   "nbconvert_exporter": "python",
   "pygments_lexer": "ipython3",
   "version": "3.7.3"
  }
 },
 "nbformat": 4,
 "nbformat_minor": 2
}
