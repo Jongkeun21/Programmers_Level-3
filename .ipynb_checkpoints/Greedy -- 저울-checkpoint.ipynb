{
 "cells": [
  {
   "cell_type": "code",
   "execution_count": null,
   "metadata": {},
   "outputs": [],
   "source": [
    "def solution(weight) :\n",
    "    weight.sort()\n",
    "    total = 0\n",
    "    flag = True\n",
    "    \n",
    "    for i in range(len(weight)-1) :\n",
    "        total += weight[i]\n",
    "        \n",
    "        if weight[i+1] > total+1 :\n",
    "            flag = False\n",
    "            break\n",
    "            \n",
    "    if flag :\n",
    "        answer = total+weight[-1]+1\n",
    "    else :\n",
    "        answer = total+1\n",
    "        \n",
    "    return answer"
   ]
  }
 ],
 "metadata": {
  "kernelspec": {
   "display_name": "Python 3",
   "language": "python",
   "name": "python3"
  },
  "language_info": {
   "codemirror_mode": {
    "name": "ipython",
    "version": 3
   },
   "file_extension": ".py",
   "mimetype": "text/x-python",
   "name": "python",
   "nbconvert_exporter": "python",
   "pygments_lexer": "ipython3",
   "version": "3.5.2"
  }
 },
 "nbformat": 4,
 "nbformat_minor": 2
}
