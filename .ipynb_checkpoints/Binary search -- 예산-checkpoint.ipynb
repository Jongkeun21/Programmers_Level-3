{
 "cells": [
  {
   "cell_type": "markdown",
   "metadata": {},
   "source": [
    "정해진 총액 이하에서 가능한 한 최대의 총 예산을 배정\n",
    "\n",
    "1. 모든 요청이 배정될 수 있는 경우에는 요청한 금액을 그대로 배정\n",
    "2. 모든 요청이 배정될 수 없는 경우, 특정한 정수 상한액을 계산하여 그 이상인 예산요청에는 모두 상한액을 배정\n",
    "   상한액 이하의 예산요청에 대해서는 요청한 금액 그대로 배정"
   ]
  },
  {
   "cell_type": "markdown",
   "metadata": {},
   "source": [
    "ex) 예산이 485이고 4개 지방의 예산요청이 각각 120, 110, 140, 150일 때, 상한액을 127로 잡으면\n",
    "    각각 120, 110, 127, 127을 배정하고 그 합이 484로 가능한 최대가 됨"
   ]
  },
  {
   "cell_type": "markdown",
   "metadata": {},
   "source": [
    "요청하는 예산이 담긴 배열 budgets과 총 예산 M이 주어질 때, 상한액을 return"
   ]
  },
  {
   "cell_type": "code",
   "execution_count": null,
   "metadata": {},
   "outputs": [],
   "source": [
    "import copy\n",
    "\n",
    "def solution(budgets, M) :\n",
    "    sum_ = sum(budgets)\n",
    "    \n",
    "    if sum_ <= M :\n",
    "        answer = max(budgets)\n",
    "    else :\n",
    "        threshold = M//len(budgets)\n",
    "        \n",
    "        while threshold >= min(budgets) :\n",
    "            left = 0\n",
    "            right = []\n",
    "            \n",
    "            for budget in budgets :\n",
    "                if budget <= threshold :\n",
    "                    left += budget\n",
    "                else :\n",
    "                    right.append(budget)\n",
    "            \n",
    "            budgets = copy.deepcopy(right)\n",
    "            M -= left\n",
    "            threshold = M//len(budgets)\n",
    "            \n",
    "        answer = threshold\n",
    "            \n",
    "    return answer"
   ]
  }
 ],
 "metadata": {
  "kernelspec": {
   "display_name": "Python 3",
   "language": "python",
   "name": "python3"
  },
  "language_info": {
   "codemirror_mode": {
    "name": "ipython",
    "version": 3
   },
   "file_extension": ".py",
   "mimetype": "text/x-python",
   "name": "python",
   "nbconvert_exporter": "python",
   "pygments_lexer": "ipython3",
   "version": "3.7.3"
  }
 },
 "nbformat": 4,
 "nbformat_minor": 2
}
