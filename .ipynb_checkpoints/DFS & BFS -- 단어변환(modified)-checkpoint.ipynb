{
 "cells": [
  {
   "cell_type": "code",
   "execution_count": null,
   "metadata": {},
   "outputs": [],
   "source": [
    "def find_path(dic, start, end) :\n",
    "    queue = [(start, [start])]\n",
    "    result = []\n",
    "    \n",
    "    while queue :\n",
    "        n, path = queue.pop(0)\n",
    "        if n == end :\n",
    "            result.append(path)\n",
    "        else :\n",
    "            for i in dic[n] :\n",
    "                if i not in path :\n",
    "                    queue.append((i, path+[i]))\n",
    "    return result\n",
    "\n",
    "def solution(begin, target, words):\n",
    "    answer = 0\n",
    "    words.insert(0, begin)\n",
    "    \n",
    "    graph = [[] for col in range(len(words))]\n",
    "\n",
    "    for i in range(len(words)) :\n",
    "        for j in range(len(words)) :\n",
    "            alpha = 0\n",
    "            if i != j :\n",
    "                for k in range(len(words[j])) :\n",
    "                    if words[j][k] == words[i][k] :\n",
    "                        alpha += 1\n",
    "                if alpha == len(words[i])-1 :\n",
    "                    graph[i].append(words[j])\n",
    "                \n",
    "    dic = {}\n",
    "    for i in range(len(words)) :\n",
    "        dic[words[i]] = graph[i]\n",
    "    \n",
    "    route = find_path(dic, begin, target)\n",
    "    \n",
    "    if len(route) > 0 :\n",
    "        answer = len(route[0])-1\n",
    "    \n",
    "    return answer"
   ]
  }
 ],
 "metadata": {
  "kernelspec": {
   "display_name": "Python 3",
   "language": "python",
   "name": "python3"
  },
  "language_info": {
   "codemirror_mode": {
    "name": "ipython",
    "version": 3
   },
   "file_extension": ".py",
   "mimetype": "text/x-python",
   "name": "python",
   "nbconvert_exporter": "python",
   "pygments_lexer": "ipython3",
   "version": "3.7.3"
  }
 },
 "nbformat": 4,
 "nbformat_minor": 2
}
