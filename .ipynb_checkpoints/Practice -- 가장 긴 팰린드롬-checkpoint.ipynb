{
 "cells": [
  {
   "cell_type": "code",
   "execution_count": 19,
   "metadata": {},
   "outputs": [],
   "source": [
    "def solution(s) :\n",
    "    length = len(s)\n",
    "    compare = length\n",
    "\n",
    "    if compare == 0 :\n",
    "        return 0\n",
    "    else :\n",
    "        result = []\n",
    "\n",
    "        while compare :\n",
    "            mid = compare//2\n",
    "\n",
    "            for i in range(length-compare+1) :\n",
    "                if compare%2 == 1 :\n",
    "                    if s[i:i+mid] == s[i+mid+1:i+mid+1+mid][::-1] :\n",
    "                        result.append(mid*2+1)\n",
    "                        break\n",
    "\n",
    "                else :\n",
    "                    if s[i:i+mid] == s[i+mid:i+mid+mid][::-1] :\n",
    "                        result.append(mid*2)\n",
    "                        break\n",
    "\n",
    "            compare -= 1\n",
    "\n",
    "        return max(result)"
   ]
  }
 ],
 "metadata": {
  "kernelspec": {
   "display_name": "Python 3",
   "language": "python",
   "name": "python3"
  },
  "language_info": {
   "codemirror_mode": {
    "name": "ipython",
    "version": 3
   },
   "file_extension": ".py",
   "mimetype": "text/x-python",
   "name": "python",
   "nbconvert_exporter": "python",
   "pygments_lexer": "ipython3",
   "version": "3.5.2"
  }
 },
 "nbformat": 4,
 "nbformat_minor": 2
}
