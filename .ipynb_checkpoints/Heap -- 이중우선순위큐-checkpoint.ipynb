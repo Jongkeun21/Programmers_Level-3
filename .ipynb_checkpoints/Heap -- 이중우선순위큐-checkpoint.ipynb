{
 "cells": [
  {
   "cell_type": "code",
   "execution_count": null,
   "metadata": {},
   "outputs": [],
   "source": [
    "import heapq\n",
    "\n",
    "def solution(operations) :\n",
    "    queue = []\n",
    "    \n",
    "    for command in operations :\n",
    "        alpha, num = command.split()\n",
    "    #     print(f\"alpha: {alpha},  num: {num}\")\n",
    "\n",
    "        if alpha == 'I' :\n",
    "            num = int(num)\n",
    "\n",
    "            if not queue :\n",
    "                queue.append(num)\n",
    "            else :\n",
    "                if queue[-1] < num :\n",
    "                    queue.append(num)\n",
    "                else :\n",
    "                    heapq.heappush(queue, num)\n",
    "\n",
    "        elif alpha  == 'D' :\n",
    "            try :\n",
    "                if num == '1' :\n",
    "                    queue.pop()\n",
    "                elif num == '-1' :\n",
    "                    heapq.heappop(queue)\n",
    "            except :\n",
    "                pass\n",
    "         \n",
    "    if queue :\n",
    "        max_ = max(queue)\n",
    "        min_ = heapq.heappop(queue)\n",
    "\n",
    "        answer = [max_, min_]\n",
    "    else :\n",
    "        answer = [0, 0]\n",
    "    \n",
    "    return answer"
   ]
  }
 ],
 "metadata": {
  "kernelspec": {
   "display_name": "Python 3",
   "language": "python",
   "name": "python3"
  },
  "language_info": {
   "codemirror_mode": {
    "name": "ipython",
    "version": 3
   },
   "file_extension": ".py",
   "mimetype": "text/x-python",
   "name": "python",
   "nbconvert_exporter": "python",
   "pygments_lexer": "ipython3",
   "version": "3.7.3"
  }
 },
 "nbformat": 4,
 "nbformat_minor": 2
}
