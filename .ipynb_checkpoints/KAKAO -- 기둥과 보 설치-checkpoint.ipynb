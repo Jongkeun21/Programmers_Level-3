{
 "cells": [
  {
   "cell_type": "markdown",
   "metadata": {},
   "source": [
    "1. 기둥은 바닥 위에 있거나 보의 한쪽 끝 부분 위에 있거나, 또는 다른 기둥 위에 있어야 함.\n",
    "2. 보는 한쪽 끝 부분이 기둥 위에 있거나, 또는 양쪽 끝 부분이 다른 보와 동시에 연결되어 있어야 함.\n",
    "3. 보는 좌표를 기준으로 오른쪽, 기둥은 위쪽 방향으로 설치 또는 삭제"
   ]
  },
  {
   "cell_type": "markdown",
   "metadata": {},
   "source": [
    "[x, y, a, b]\n",
    "--> x, y는 각각 가로 좌표, 세로 좌표\n",
    "--> a는 구조물의 종류를 나타냄, 0-기둥, 1-보\n",
    "--> b는 삭제할 지, 설치할 지를 나타냄, 0-삭제, 1-설치\n",
    "\n",
    "ex_ [1,1,0,1] --> [1,1]의 위치에 기둥을 설치\n",
    "\n",
    "C - 기둥(Column), B - 보(Beam)"
   ]
  },
  {
   "cell_type": "code",
   "execution_count": null,
   "metadata": {},
   "outputs": [],
   "source": [
    "def confirm(result) :\n",
    "    for x,y,a in result :\n",
    "        # 기둥인 경우\n",
    "        if a == 0 :\n",
    "            if y == 0 or (x-1, y, 1) in result or (x, y, 1) in result or (x, y-1, 0) in result :\n",
    "                continue\n",
    "            else :\n",
    "                return False\n",
    "        # 보인경우\n",
    "        elif a == 1 :\n",
    "            if (x, y-1, 0) in result or (x+1, y-1, 0) in result or ((x-1, y, 1) in result and (x+1, y, 1) in result) :\n",
    "                continue\n",
    "            else :\n",
    "                return False\n",
    "        \n",
    "    return True\n",
    "\n",
    "\n",
    "def solution(n, build_frame) :\n",
    "    result = set()\n",
    "    \n",
    "    for x, y, a, b in build_frame :\n",
    "        # remove\n",
    "        if b == 0 and (x,y,a) in result :\n",
    "            result.remove((x,y,a))\n",
    "\n",
    "            if confirm(result) :\n",
    "                continue\n",
    "            else :\n",
    "                result.add((x,y,a))\n",
    "        # add\n",
    "        elif b == 1 :\n",
    "            result.add((x,y,a))\n",
    "\n",
    "            if confirm(result) :\n",
    "                continue\n",
    "            else :\n",
    "                result.remove((x,y,a))\n",
    "                \n",
    "    answer = [list(i) for i in result]\n",
    "    \n",
    "    return sorted(answer, key=lambda x: (x[0],x[1],x[2]))"
   ]
  }
 ],
 "metadata": {
  "kernelspec": {
   "display_name": "Python 3",
   "language": "python",
   "name": "python3"
  },
  "language_info": {
   "codemirror_mode": {
    "name": "ipython",
    "version": 3
   },
   "file_extension": ".py",
   "mimetype": "text/x-python",
   "name": "python",
   "nbconvert_exporter": "python",
   "pygments_lexer": "ipython3",
   "version": "3.7.3"
  }
 },
 "nbformat": 4,
 "nbformat_minor": 2
}
