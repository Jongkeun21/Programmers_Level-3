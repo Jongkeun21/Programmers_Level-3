{
 "cells": [
  {
   "cell_type": "code",
   "execution_count": 8,
   "metadata": {},
   "outputs": [],
   "source": [
    "from collections import defaultdict\n",
    "\n",
    "def solution(dirs) :\n",
    "    curr = [5, 5]\n",
    "    dic = defaultdict(list)\n",
    "    length = 0\n",
    "    before = str(curr[0])+str(curr[1])\n",
    "\n",
    "    for char in dirs :\n",
    "        if char == 'U' :\n",
    "            next_ = [curr[0]-1, curr[1]]\n",
    "        elif char == 'L' :\n",
    "            next_ = [curr[0], curr[1]-1]\n",
    "        elif char == 'D' :\n",
    "            next_ = [curr[0]+1, curr[1]]\n",
    "        else :\n",
    "            next_ = [curr[0], curr[1]+1]\n",
    "            \n",
    "        if -1 in next_ or 11 in next_ :\n",
    "            pass\n",
    "        else :\n",
    "            after = str(next_[0])+str(next_[1])\n",
    "\n",
    "            if not dic[before+after] and not dic[after+before] :\n",
    "                dic[before+after] = True\n",
    "                dic[after+before] = True\n",
    "                length += 1\n",
    "\n",
    "            curr = next_  \n",
    "            before = after\n",
    "        \n",
    "    return length"
   ]
  },
  {
   "cell_type": "code",
   "execution_count": null,
   "metadata": {},
   "outputs": [],
   "source": []
  }
 ],
 "metadata": {
  "kernelspec": {
   "display_name": "Python 3",
   "language": "python",
   "name": "python3"
  },
  "language_info": {
   "codemirror_mode": {
    "name": "ipython",
    "version": 3
   },
   "file_extension": ".py",
   "mimetype": "text/x-python",
   "name": "python",
   "nbconvert_exporter": "python",
   "pygments_lexer": "ipython3",
   "version": "3.5.2"
  }
 },
 "nbformat": 4,
 "nbformat_minor": 2
}
