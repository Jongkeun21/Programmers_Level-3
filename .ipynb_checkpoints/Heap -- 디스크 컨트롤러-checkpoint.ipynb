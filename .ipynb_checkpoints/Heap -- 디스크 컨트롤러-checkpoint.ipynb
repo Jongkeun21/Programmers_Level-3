{
 "cells": [
  {
   "cell_type": "markdown",
   "metadata": {},
   "source": [
    "[작업 요청 시점, 작업 소요 시간]을 담은 2차원 배열 input\n",
    "작업의 요청부터 종료까지 걸린 시간의 평균이 가장 작을 때의 값 return"
   ]
  },
  {
   "cell_type": "code",
   "execution_count": null,
   "metadata": {},
   "outputs": [],
   "source": [
    "import heapq\n",
    "\n",
    "def solution(jobs) :\n",
    "    jobs.sort(reverse=True)\n",
    "    length = len(jobs)\n",
    "    done = []\n",
    "    remain = []\n",
    "    count = -1\n",
    "    current = 0\n",
    "    operating = []\n",
    "    answer = 0\n",
    "\n",
    "    while len(done) != length :\n",
    "        for i in range(len(jobs)-1, -1, -1) :\n",
    "            if jobs[i][0] <= count :\n",
    "                heapq.heappush(remain, jobs.pop()[1])\n",
    "            else :\n",
    "                break\n",
    "\n",
    "        try :\n",
    "            if operating[0]-1 == current :\n",
    "                done_ = operating.pop()\n",
    "                answer += done_\n",
    "                done.append(done_)\n",
    "                current = -1\n",
    "\n",
    "                if remain :\n",
    "                    now = heapq.heappop(remain)\n",
    "                    operating.append(now)\n",
    "\n",
    "            current += 1\n",
    "\n",
    "        except :\n",
    "            if not operating and remain :\n",
    "                now = heapq.heappop(remain)\n",
    "                operating.append(now)\n",
    "\n",
    "        answer += len(remain)\n",
    "        count += 1\n",
    "\n",
    "    #     try :\n",
    "    #         print(f\"done: {done},  remain: {remain},  operating: {operating},  count: {count},  current: {current},  now: {now},  answer: {answer}\")\n",
    "    #     except :\n",
    "    #         print(f\"done: {done},  remain: {remain},  operating: {operating},  count: {count},  current: {current},  answer: {answer}\")\n",
    "    \n",
    "    return answer//length"
   ]
  }
 ],
 "metadata": {
  "kernelspec": {
   "display_name": "Python 3",
   "language": "python",
   "name": "python3"
  },
  "language_info": {
   "codemirror_mode": {
    "name": "ipython",
    "version": 3
   },
   "file_extension": ".py",
   "mimetype": "text/x-python",
   "name": "python",
   "nbconvert_exporter": "python",
   "pygments_lexer": "ipython3",
   "version": "3.7.3"
  }
 },
 "nbformat": 4,
 "nbformat_minor": 2
}
