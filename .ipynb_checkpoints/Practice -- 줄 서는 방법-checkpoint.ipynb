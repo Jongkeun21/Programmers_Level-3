{
 "cells": [
  {
   "cell_type": "code",
   "execution_count": 2,
   "metadata": {},
   "outputs": [],
   "source": [
    "class variables:\n",
    "    dic = {0: 1, 1: 1}\n",
    "\n",
    "def factorial(n) :\n",
    "    if n in variables.dic :\n",
    "        return variables.dic[n]\n",
    "    else :\n",
    "        return factorial(n-1)*n\n",
    "    \n",
    "def solution(n, k) :\n",
    "    array = [i+1 for i in range(n)]\n",
    "    answer = []\n",
    "    k = k-1\n",
    "    \n",
    "    while n > 0 :\n",
    "        num = factorial(n-1)\n",
    "        q, r = k//num, k%num\n",
    "\n",
    "        print(f\"n: {n},  q: {q},  r: {r}\")\n",
    "\n",
    "        answer.append(array[q])\n",
    "        array.pop(q)\n",
    "\n",
    "        k = r\n",
    "        n -= 1\n",
    "        \n",
    "    return answer"
   ]
  }
 ],
 "metadata": {
  "kernelspec": {
   "display_name": "Python 3",
   "language": "python",
   "name": "python3"
  },
  "language_info": {
   "codemirror_mode": {
    "name": "ipython",
    "version": 3
   },
   "file_extension": ".py",
   "mimetype": "text/x-python",
   "name": "python",
   "nbconvert_exporter": "python",
   "pygments_lexer": "ipython3",
   "version": "3.7.3"
  }
 },
 "nbformat": 4,
 "nbformat_minor": 2
}
