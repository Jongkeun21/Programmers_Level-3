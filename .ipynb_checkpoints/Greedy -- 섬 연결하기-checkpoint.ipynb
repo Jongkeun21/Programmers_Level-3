{
 "cells": [
  {
   "cell_type": "markdown",
   "metadata": {},
   "source": [
    "크루스칼(Kruskal) 알고리즘\n",
    "1. 가장 작은 가중치를 먼저 선택\n",
    "2. 사이클을 형성하는 간선 제외(간선이 이미 다른 경로에 의해 연결되어 있는 정점들을 연결할때 사이클 형성)"
   ]
  },
  {
   "cell_type": "code",
   "execution_count": 4,
   "metadata": {},
   "outputs": [],
   "source": [
    "class UnionFind(object) :\n",
    "    def __init__(self, n) :\n",
    "        self.parent = {i: i for i in range(n)}\n",
    "        self.dist = {j: 0 for j in range(n)}\n",
    "        \n",
    "    def find(self, k) :\n",
    "        if self.parent[k] != k :\n",
    "            self.parent[k] = self.find(self.parent[k])\n",
    "        \n",
    "        return self.parent[k]\n",
    "    \n",
    "    def union(self, u, v) :\n",
    "        if self.dist[u] > self.dist[v] :\n",
    "            self.parent[v] = u\n",
    "        else :\n",
    "            self.parent[u] = v\n",
    "            \n",
    "            if self.dist[u] == self.dist[v] :\n",
    "                self.dist[v] += 1"
   ]
  },
  {
   "cell_type": "code",
   "execution_count": 5,
   "metadata": {},
   "outputs": [],
   "source": [
    "def solution(n, costs) :\n",
    "    minimum = 0\n",
    "    unionfind = UnionFind(n)\n",
    "    \n",
    "    for start, end, dist in sorted(costs, key=lambda x: x[2]) :\n",
    "        u = unionfind.find(start)\n",
    "        v = unionfind.find(end)\n",
    "        \n",
    "        if u != v :\n",
    "            unionfind.union(u, v)\n",
    "            minimum += dist\n",
    "            \n",
    "    return minimum"
   ]
  },
  {
   "cell_type": "code",
   "execution_count": null,
   "metadata": {},
   "outputs": [],
   "source": []
  }
 ],
 "metadata": {
  "kernelspec": {
   "display_name": "Python 3",
   "language": "python",
   "name": "python3"
  },
  "language_info": {
   "codemirror_mode": {
    "name": "ipython",
    "version": 3
   },
   "file_extension": ".py",
   "mimetype": "text/x-python",
   "name": "python",
   "nbconvert_exporter": "python",
   "pygments_lexer": "ipython3",
   "version": "3.7.3"
  }
 },
 "nbformat": 4,
 "nbformat_minor": 2
}
