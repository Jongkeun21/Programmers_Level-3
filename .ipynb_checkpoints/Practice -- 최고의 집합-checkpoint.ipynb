{
 "cells": [
  {
   "cell_type": "markdown",
   "metadata": {},
   "source": [
    "최고의 집합 -- 자연수 n개로 이루어진 중복 집합 중에서 \n",
    "\n",
    "1. 각 원소의 합이 s가 되는 수의 집합\n",
    "2. 위 조건을 만족하면서 각 원소의 곱이 최대가 되는 집합"
   ]
  },
  {
   "cell_type": "code",
   "execution_count": null,
   "metadata": {},
   "outputs": [],
   "source": [
    "def solution(n, s) :\n",
    "    if s < n :\n",
    "        answer = [-1]\n",
    "    else :\n",
    "        answer = [s//n for _ in range(n)]\n",
    "        total = sum(answer)\n",
    "\n",
    "        if total != s :\n",
    "            count = s-total\n",
    "\n",
    "            for i in range(count) :\n",
    "                answer[-1-i] += 1\n",
    "                \n",
    "    return answer"
   ]
  }
 ],
 "metadata": {
  "kernelspec": {
   "display_name": "Python 3",
   "language": "python",
   "name": "python3"
  },
  "language_info": {
   "codemirror_mode": {
    "name": "ipython",
    "version": 3
   },
   "file_extension": ".py",
   "mimetype": "text/x-python",
   "name": "python",
   "nbconvert_exporter": "python",
   "pygments_lexer": "ipython3",
   "version": "3.5.2"
  }
 },
 "nbformat": 4,
 "nbformat_minor": 2
}
