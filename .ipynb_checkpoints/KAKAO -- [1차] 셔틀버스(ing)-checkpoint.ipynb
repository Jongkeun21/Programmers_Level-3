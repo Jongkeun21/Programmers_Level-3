{
 "cells": [
  {
   "cell_type": "markdown",
   "metadata": {},
   "source": [
    "셔틀 운행 횟수 -> n\n",
    "셔틀 운행 간격 -> t\n",
    "한 셔틀에 탈 수 있는 최대 크루 수 -> m\n",
    "크루가 대기열에 도착하는 시각 배열 -> timetable"
   ]
  },
  {
   "cell_type": "code",
   "execution_count": 17,
   "metadata": {},
   "outputs": [],
   "source": [
    "n = 1\n",
    "t = 1\n",
    "m = 5\n",
    "timetable = [\"08:00\", \"08:01\", \"08:02\", \"08:03\"]\n",
    "# return = \"09:00\""
   ]
  },
  {
   "cell_type": "code",
   "execution_count": 26,
   "metadata": {},
   "outputs": [],
   "source": [
    "n = 2\n",
    "t = 10\n",
    "m = 2\n",
    "timetable = [\"09:10\", \"09:09\", \"08:00\"]"
   ]
  },
  {
   "cell_type": "code",
   "execution_count": 27,
   "metadata": {},
   "outputs": [],
   "source": [
    "class variables :\n",
    "    defaultH = 9\n",
    "    defaultM = 0\n",
    "    shuttleTable = [[defaultH, defaultM]]\n",
    "\n",
    "def makeShuttleTalbe(n, t) :\n",
    "    for i in range(1, n) :\n",
    "        total = t*i\n",
    "\n",
    "        hour = total//60\n",
    "        min_ = total%60\n",
    "\n",
    "        variables.shuttleTable.append([variables.defaultH+hour, variables.defaultM+min_])"
   ]
  },
  {
   "cell_type": "code",
   "execution_count": 28,
   "metadata": {},
   "outputs": [
    {
     "data": {
      "text/plain": [
       "['08:00', '09:09', '09:10']"
      ]
     },
     "execution_count": 28,
     "metadata": {},
     "output_type": "execute_result"
    }
   ],
   "source": [
    "timetable.sort()\n",
    "newTable = []\n",
    "\n",
    "for time in timetable :\n",
    "    hh, mm = time.split(\":\")\n",
    "    \n",
    "    newTable.append([hh, mm])"
   ]
  },
  {
   "cell_type": "code",
   "execution_count": 29,
   "metadata": {},
   "outputs": [],
   "source": [
    "for i in range(len(timetable)-1, -1, -1) :\n",
    "    if timetable[i] == \"23:59\" :\n",
    "        timetable.pop()\n",
    "    else :\n",
    "        break"
   ]
  },
  {
   "cell_type": "code",
   "execution_count": 30,
   "metadata": {},
   "outputs": [
    {
     "data": {
      "text/plain": [
       "[[9, 0]]"
      ]
     },
     "execution_count": 30,
     "metadata": {},
     "output_type": "execute_result"
    }
   ],
   "source": [
    "variables.shuttleTable"
   ]
  },
  {
   "cell_type": "code",
   "execution_count": 31,
   "metadata": {},
   "outputs": [],
   "source": [
    "result = []\n",
    "count = 0"
   ]
  },
  {
   "cell_type": "code",
   "execution_count": 32,
   "metadata": {},
   "outputs": [
    {
     "data": {
      "text/plain": [
       "['08:00', '09:09', '09:10']"
      ]
     },
     "execution_count": 32,
     "metadata": {},
     "output_type": "execute_result"
    }
   ],
   "source": [
    "timetable"
   ]
  },
  {
   "cell_type": "code",
   "execution_count": 33,
   "metadata": {},
   "outputs": [],
   "source": [
    "if len(timetable)//m == 0 :\n",
    "    answer = \"09:00\"\n",
    "else :\n",
    "    try :\n",
    "        for shuttle in variables.shuttleTable :\n",
    "            for i in range(m) :\n",
    "                shuttle.append(timetable[count+i])\n",
    "\n",
    "            count += 1\n",
    "            result.append(shuttle)\n",
    "    except :\n",
    "        pass"
   ]
  },
  {
   "cell_type": "code",
   "execution_count": 34,
   "metadata": {},
   "outputs": [
    {
     "data": {
      "text/plain": [
       "[[9, 0, '08:00', '09:09']]"
      ]
     },
     "execution_count": 34,
     "metadata": {},
     "output_type": "execute_result"
    }
   ],
   "source": [
    "result"
   ]
  },
  {
   "cell_type": "code",
   "execution_count": 45,
   "metadata": {},
   "outputs": [
    {
     "data": {
      "text/plain": [
       "'09:10'"
      ]
     },
     "execution_count": 45,
     "metadata": {},
     "output_type": "execute_result"
    }
   ],
   "source": [
    "answer = ':'.join(newTable[len(result)*m])"
   ]
  },
  {
   "cell_type": "code",
   "execution_count": null,
   "metadata": {},
   "outputs": [],
   "source": [
    "class variables :\n",
    "    defaultH = 9\n",
    "    defaultM = 0\n",
    "    shuttleTable = [[defaultH, defaultM]]\n",
    "\n",
    "def makeShuttleTalbe(n, t) :\n",
    "    for i in range(1, n) :\n",
    "        total = t*i\n",
    "\n",
    "        hour = total//60\n",
    "        min_ = total%60\n",
    "\n",
    "        variables.shuttleTable.append([variables.defaultH+hour, variables.defaultM+min_])\n",
    "\n",
    "def solution(n, t, m, timetable) :\n",
    "    timetable.sort()\n",
    "    \n",
    "    for i in range(len(timetable)-1, -1, -1) :\n",
    "        if timetable[i] == \"23:59\" :\n",
    "            timetable.pop()\n",
    "        else :\n",
    "            break\n",
    "        \n",
    "    newTable = []\n",
    "    result = []\n",
    "    count = 0\n",
    "\n",
    "    for time in timetable :\n",
    "        hh, mm = time.split(\":\")\n",
    "\n",
    "        newTable.append([hh, mm])\n",
    "        \n",
    "    if len(timetable)//m == 0 :\n",
    "        answer = \"09:00\"\n",
    "    else :\n",
    "        try :\n",
    "            for shuttle in variables.shuttleTable :\n",
    "                for i in range(m) :\n",
    "                    shuttle.append(timetable[count+i])\n",
    "\n",
    "                count += 1\n",
    "                result.append(shuttle)\n",
    "        except :\n",
    "            pass\n",
    "        \n",
    "        answer = ':'.join(newTable[len(result)*m])\n",
    "    \n",
    "    return answer"
   ]
  }
 ],
 "metadata": {
  "kernelspec": {
   "display_name": "Python 3",
   "language": "python",
   "name": "python3"
  },
  "language_info": {
   "codemirror_mode": {
    "name": "ipython",
    "version": 3
   },
   "file_extension": ".py",
   "mimetype": "text/x-python",
   "name": "python",
   "nbconvert_exporter": "python",
   "pygments_lexer": "ipython3",
   "version": "3.5.2"
  }
 },
 "nbformat": 4,
 "nbformat_minor": 2
}
