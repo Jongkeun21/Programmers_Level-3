{
 "cells": [
  {
   "cell_type": "markdown",
   "metadata": {},
   "source": [
    "[고속도로 진입 지점, 나간 지점]이 주어질 때, 모든 차량이 한 번은 카메라를 만나도록 하려면 최소한 몇 대의 카메라를 설치해야 하는지 return"
   ]
  },
  {
   "cell_type": "code",
   "execution_count": 8,
   "metadata": {},
   "outputs": [],
   "source": [
    "def solution(routes) :\n",
    "    answer = 0\n",
    "    length = len(routes)\n",
    "    routes.sort(reverse=True)\n",
    "    dic = {i: False for i in range(len(routes))}\n",
    "    \n",
    "    for i in range(length) :\n",
    "        if not dic[i] :\n",
    "            camera = routes[i][0]\n",
    "            answer += 1\n",
    "        \n",
    "        for j in range(i+1, length) :\n",
    "            if not dic[j] and routes[j][0] <= camera <= routes[j][1] :\n",
    "                dic[j] = True\n",
    "                \n",
    "    return answer"
   ]
  }
 ],
 "metadata": {
  "kernelspec": {
   "display_name": "Python 3",
   "language": "python",
   "name": "python3"
  },
  "language_info": {
   "codemirror_mode": {
    "name": "ipython",
    "version": 3
   },
   "file_extension": ".py",
   "mimetype": "text/x-python",
   "name": "python",
   "nbconvert_exporter": "python",
   "pygments_lexer": "ipython3",
   "version": "3.7.3"
  }
 },
 "nbformat": 4,
 "nbformat_minor": 2
}
