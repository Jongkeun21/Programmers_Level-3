{
 "cells": [
  {
   "cell_type": "markdown",
   "metadata": {},
   "source": [
    "1. 디딤돌의 숫자는 한 번 밟을 때마다 1씩 줄어든다.\n",
    "2. 디딤돌의 숫자가 0이 되면 더 이상 밟을 수 없으며, 그 다음 디딤돌로 한 번에 여러 칸을 건너 뛸 수 있다.\n",
    "3. 다음으로 밟을 수 있는 디딤돌이 여러 개인 경우 가장 가까운 디딤돌로 건너뛴다."
   ]
  },
  {
   "cell_type": "markdown",
   "metadata": {},
   "source": [
    "stones --> 디딤돌에 적힌 숫자가 순서대로 담긴 배열\n",
    "k --> 한 번에 건너뛸 수 있는 디딤돌의 최대 칸수"
   ]
  },
  {
   "cell_type": "code",
   "execution_count": 10,
   "metadata": {},
   "outputs": [],
   "source": [
    "stones = [2, 4, 5, 3, 2, 1, 4, 2, 5, 1]\n",
    "k = 3\n",
    "# return 3"
   ]
  },
  {
   "cell_type": "code",
   "execution_count": 11,
   "metadata": {},
   "outputs": [],
   "source": [
    "left = min(stones)\n",
    "right = max(stones)"
   ]
  },
  {
   "cell_type": "code",
   "execution_count": 12,
   "metadata": {},
   "outputs": [
    {
     "name": "stdout",
     "output_type": "stream",
     "text": [
      "left: 1, right: 5\n",
      "right\n",
      "getCount(newStones): 3\n",
      "left: 1, right: 4\n",
      "left\n",
      "getCount(newStones): 2\n",
      "left: 2, right: 4\n",
      "right\n",
      "getCount(newStones): 3\n",
      "left: 2, right: 3\n",
      "left\n",
      "getCount(newStones): 2\n",
      "left: 3, right: 3\n",
      "right\n",
      "getCount(newStones): 3\n"
     ]
    }
   ],
   "source": [
    "length = len(stones)\n",
    "\n",
    "while left < right :\n",
    "    mid = (left+right)//2\n",
    "    newStones = [-1*mid]*length\n",
    "    \n",
    "    for i in range(len(stones)) :\n",
    "        newStones[i] += stones[i]\n",
    "        \n",
    "    count = getCount(newStones)\n",
    "        \n",
    "    if count < k :\n",
    "        left += 1\n",
    "    else :\n",
    "        if count == k :\n",
    "            answer = mid\n",
    "            \n",
    "        right -= 1"
   ]
  },
  {
   "cell_type": "code",
   "execution_count": 4,
   "metadata": {},
   "outputs": [],
   "source": [
    "def getCount(list) :\n",
    "    result = []\n",
    "    count = 0\n",
    "    \n",
    "    for i in range(len(list)) :\n",
    "        if list[i] < 1 :\n",
    "            count += 1\n",
    "        else :\n",
    "            result.append(count)\n",
    "            count = 0\n",
    "            \n",
    "    return max(max(result), count)"
   ]
  },
  {
   "cell_type": "code",
   "execution_count": null,
   "metadata": {},
   "outputs": [],
   "source": [
    "def getCount(list) :\n",
    "    result = []\n",
    "    count = 0\n",
    "    \n",
    "    for i in range(len(list)) :\n",
    "        if list[i] < 1 :\n",
    "            count += 1\n",
    "        else :\n",
    "            result.append(count)\n",
    "            count = 0\n",
    "            \n",
    "    return max(max(result), count)\n",
    "\n",
    "def solution(stones, k) :\n",
    "    left = min(stones)\n",
    "    right = max(stones)\n",
    "    length = len(stones)\n",
    "    answer = left\n",
    "\n",
    "    while left <= right :\n",
    "        mid = (left+right)//2\n",
    "        newStones = [-1*mid]*length\n",
    "\n",
    "        for i in range(len(stones)) :\n",
    "            newStones[i] += stones[i]\n",
    "\n",
    "        count = getCount(newStones)\n",
    "\n",
    "        if count < k :\n",
    "            left += 1\n",
    "        else :\n",
    "            if count == k :\n",
    "                answer = mid\n",
    "\n",
    "            right -= 1\n",
    "            \n",
    "    return answer"
   ]
  },
  {
   "cell_type": "code",
   "execution_count": null,
   "metadata": {},
   "outputs": [],
   "source": []
  },
  {
   "cell_type": "code",
   "execution_count": null,
   "metadata": {},
   "outputs": [],
   "source": []
  },
  {
   "cell_type": "code",
   "execution_count": null,
   "metadata": {},
   "outputs": [],
   "source": []
  },
  {
   "cell_type": "code",
   "execution_count": null,
   "metadata": {},
   "outputs": [],
   "source": []
  },
  {
   "cell_type": "code",
   "execution_count": null,
   "metadata": {},
   "outputs": [],
   "source": []
  }
 ],
 "metadata": {
  "kernelspec": {
   "display_name": "Python 3",
   "language": "python",
   "name": "python3"
  },
  "language_info": {
   "codemirror_mode": {
    "name": "ipython",
    "version": 3
   },
   "file_extension": ".py",
   "mimetype": "text/x-python",
   "name": "python",
   "nbconvert_exporter": "python",
   "pygments_lexer": "ipython3",
   "version": "3.7.3"
  }
 },
 "nbformat": 4,
 "nbformat_minor": 2
}
