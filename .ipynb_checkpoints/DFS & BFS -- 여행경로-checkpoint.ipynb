{
 "cells": [
  {
   "cell_type": "code",
   "execution_count": 11,
   "metadata": {},
   "outputs": [],
   "source": [
    "from collections import defaultdict\n",
    "\n",
    "def solution(tickets) :\n",
    "    tickets.sort(key=lambda x: x[1], reverse=True)\n",
    "    dic = defaultdict(list)\n",
    "    \n",
    "    for u, v in tickets :\n",
    "        dic[u] += [v]\n",
    "        \n",
    "    stack = ['ICN']\n",
    "    answer = []\n",
    "    \n",
    "    while stack :\n",
    "        arrival = stack[-1]\n",
    "\n",
    "        if arrival not in dic or not dic[arrival] :\n",
    "            answer.append(stack.pop())\n",
    "        else :\n",
    "            stack.append(dic[arrival].pop())\n",
    "            \n",
    "    answer.reverse()\n",
    "    \n",
    "    return answer"
   ]
  }
 ],
 "metadata": {
  "kernelspec": {
   "display_name": "Python 3",
   "language": "python",
   "name": "python3"
  },
  "language_info": {
   "codemirror_mode": {
    "name": "ipython",
    "version": 3
   },
   "file_extension": ".py",
   "mimetype": "text/x-python",
   "name": "python",
   "nbconvert_exporter": "python",
   "pygments_lexer": "ipython3",
   "version": "3.5.2"
  }
 },
 "nbformat": 4,
 "nbformat_minor": 2
}
