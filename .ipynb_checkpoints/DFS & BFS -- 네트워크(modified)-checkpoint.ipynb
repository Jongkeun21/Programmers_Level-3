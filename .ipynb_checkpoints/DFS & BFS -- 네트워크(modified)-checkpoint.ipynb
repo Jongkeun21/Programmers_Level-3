{
 "cells": [
  {
   "cell_type": "code",
   "execution_count": 162,
   "metadata": {},
   "outputs": [],
   "source": [
    "n = 3\n",
    "computers = [[1,1,0],[1,1,0],[0,0,1]]\n",
    "n = 4\n",
    "computers = [[1,0,0,1],[0,1,1,1],[0,1,1,0],[1,1,0,1]]\n",
    "computers = [[1,1,1,0],[1,1,1,0],[1,1,1,1],[0,0,1,1]]\n",
    "n = 5\n",
    "computers = [[1,1,0,0,0],[1,1,0,0,0],[0,0,1,1,0],[0,0,1,1,1],[0,0,0,1,1]]"
   ]
  },
  {
   "cell_type": "markdown",
   "metadata": {},
   "source": [
    "### 이게 최종"
   ]
  },
  {
   "cell_type": "code",
   "execution_count": 163,
   "metadata": {},
   "outputs": [],
   "source": [
    "def solution(n, computers) :\n",
    "    graph = [[] for col in range(n)]\n",
    "\n",
    "    for i in range(n) :\n",
    "        for j in range(len(computers[i])) :\n",
    "            if computers[i][j] == 1:\n",
    "                graph[i].append(j)\n",
    "\n",
    "    visited = []\n",
    "    count = [0]\n",
    "\n",
    "    def DFS_rec(graph, root, visited, count) :\n",
    "        visited.append(root)\n",
    "\n",
    "        for node in graph[root] :\n",
    "            if not node in visited :\n",
    "                count[0] += 1\n",
    "                DFS_rec(graph, node, visited, count)\n",
    "\n",
    "        return visited\n",
    "\n",
    "    for i in range(n) :\n",
    "        DFS_rec(graph, i, visited, count)\n",
    "        \n",
    "    answer = 0\n",
    "    answer = n - count[0]\n",
    "    \n",
    "    return answer"
   ]
  },
  {
   "cell_type": "code",
   "execution_count": null,
   "metadata": {},
   "outputs": [],
   "source": []
  }
 ],
 "metadata": {
  "kernelspec": {
   "display_name": "Python 3",
   "language": "python",
   "name": "python3"
  },
  "language_info": {
   "codemirror_mode": {
    "name": "ipython",
    "version": 3
   },
   "file_extension": ".py",
   "mimetype": "text/x-python",
   "name": "python",
   "nbconvert_exporter": "python",
   "pygments_lexer": "ipython3",
   "version": "3.7.3"
  }
 },
 "nbformat": 4,
 "nbformat_minor": 2
}
