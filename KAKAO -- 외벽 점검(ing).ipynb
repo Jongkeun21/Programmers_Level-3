{
 "cells": [
  {
   "cell_type": "markdown",
   "metadata": {},
   "source": [
    "외벽의 총 둘레는 n미터, 취약 지점 보유\n",
    "주기적으로 취약 지점을 점검, 점검 시간 1시간\n",
    "최소한의 투자로 취약 지점 점검, 나머지는 내부 공사\n",
    "취약 지점의 위치는 시계 방향으로 떨어진 거리를 나타냄\n",
    "이동은 시계, 반시계 방향 모두 가능\n",
    "\n",
    "외벽의 길이 n, 취약 지점의 위치 배열 weak, 각 친구가 1시간 동안 이동 가능한 거리 배열 dist\n",
    "취약 지점 점검을 위해 보내야 하는 친구 수의 최솟값 return"
   ]
  },
  {
   "cell_type": "markdown",
   "metadata": {},
   "source": [
    "1. 위치가 같은 취약 지점은 주어지지 않음\n",
    "2. 취약 지점의 위치는 오름차순 정렬\n",
    "3. 취약 지점을 전부 점검할 수 없는 경우 -1 return"
   ]
  },
  {
   "cell_type": "markdown",
   "metadata": {},
   "source": [
    "permutation 써야돼...\n",
    "1. dist 하나로 할 수 있는 경우 --> 1 가지\n",
    "2. dist 두 개로 할 수 있는 경우의 수 --> len(weak)P2 * len(weak) \n",
    "3. ...\n",
    "4. ...\n",
    "   ..."
   ]
  },
  {
   "cell_type": "code",
   "execution_count": 1,
   "metadata": {},
   "outputs": [],
   "source": [
    "n = 12\n",
    "weak = [1,5,6,10]\n",
    "dist = [1,2,3,4]\n",
    "# return 2"
   ]
  },
  {
   "cell_type": "code",
   "execution_count": 7,
   "metadata": {},
   "outputs": [],
   "source": [
    "n = 12\n",
    "weak = [1,3,4,9,10]\n",
    "dist = [3,5,7]\n",
    "# return 1"
   ]
  },
  {
   "cell_type": "code",
   "execution_count": 20,
   "metadata": {},
   "outputs": [],
   "source": [
    "n = 50\n",
    "weak = [1,5,10,12,22,25]\n",
    "dist = [4,3,2,1]\n",
    "# return 3"
   ]
  },
  {
   "cell_type": "code",
   "execution_count": 21,
   "metadata": {},
   "outputs": [],
   "source": [
    "total = []"
   ]
  },
  {
   "cell_type": "code",
   "execution_count": 22,
   "metadata": {},
   "outputs": [
    {
     "name": "stdout",
     "output_type": "stream",
     "text": [
      "result: [1, 5, 10, 12, 22, 25],  score: 24\n",
      "result: [5, 10, 12, 22, 25, 51],  score: 46\n",
      "result: [10, 12, 22, 25, 51, 55],  score: 45\n",
      "result: [12, 22, 25, 51, 55, 60],  score: 48\n",
      "result: [22, 25, 51, 55, 60, 62],  score: 40\n",
      "result: [25, 51, 55, 60, 62, 72],  score: 47\n"
     ]
    }
   ],
   "source": [
    "for i in range(len(weak)) :\n",
    "    result = []\n",
    "    start = i\n",
    "    score = 0\n",
    "    \n",
    "    for j in range(len(weak)) :\n",
    "        seq = j+i\n",
    "        r = seq%len(weak)\n",
    "        \n",
    "        if seq > len(weak)-1 :\n",
    "            result.append(weak[r]+n)\n",
    "        else :\n",
    "            result.append(weak[r])\n",
    "        \n",
    "    if len(result) > 1 :\n",
    "        for k in range(len(result)-1) :\n",
    "            score += abs(result[k+1]-result[k])\n",
    "    else :\n",
    "        score = 1\n",
    "                  \n",
    "    print(f\"result: {result},  score: {score}\")\n",
    "    \n",
    "    total.append(score)"
   ]
  },
  {
   "cell_type": "code",
   "execution_count": 23,
   "metadata": {},
   "outputs": [
    {
     "data": {
      "text/plain": [
       "[24, 46, 45, 48, 40, 47]"
      ]
     },
     "execution_count": 23,
     "metadata": {},
     "output_type": "execute_result"
    }
   ],
   "source": [
    "total"
   ]
  },
  {
   "cell_type": "code",
   "execution_count": 24,
   "metadata": {},
   "outputs": [
    {
     "name": "stdout",
     "output_type": "stream",
     "text": [
      "------------------------------------------------\n",
      "conut: 1, cover: 4\n",
      "score: 24\n",
      "score: 46\n",
      "score: 45\n",
      "score: 48\n",
      "score: 40\n",
      "score: 47\n",
      "------------------------------------------------\n",
      "conut: 2, cover: 7\n",
      "score: 24\n",
      "score: 46\n",
      "score: 45\n",
      "score: 48\n",
      "score: 40\n",
      "score: 47\n",
      "------------------------------------------------\n",
      "conut: 3, cover: 9\n",
      "score: 24\n",
      "score: 46\n",
      "score: 45\n",
      "score: 48\n",
      "score: 40\n",
      "score: 47\n",
      "------------------------------------------------\n",
      "conut: 4, cover: 10\n",
      "score: 24\n",
      "score: 46\n",
      "score: 45\n",
      "score: 48\n",
      "score: 40\n",
      "score: 47\n"
     ]
    }
   ],
   "source": [
    "dist.sort()\n",
    "cover = 0\n",
    "count = 0\n",
    "\n",
    "while dist :\n",
    "    flag = False\n",
    "    count += 1\n",
    "    cover += dist.pop()\n",
    "    \n",
    "    print(\"------------------------------------------------\")\n",
    "    print(f\"conut: {count}, cover: {cover}\")\n",
    "    \n",
    "    for score in total :\n",
    "        print(f\"score: {score}\")\n",
    "        if cover >= score-1 :\n",
    "            flag = True\n",
    "            break\n",
    "            \n",
    "    if flag :\n",
    "        break"
   ]
  },
  {
   "cell_type": "code",
   "execution_count": 25,
   "metadata": {},
   "outputs": [
    {
     "data": {
      "text/plain": [
       "4"
      ]
     },
     "execution_count": 25,
     "metadata": {},
     "output_type": "execute_result"
    }
   ],
   "source": [
    "count"
   ]
  },
  {
   "cell_type": "code",
   "execution_count": null,
   "metadata": {},
   "outputs": [],
   "source": [
    "def solution(n, weak, dist) :\n",
    "    total = []\n",
    "    \n",
    "    for i in range(len(weak)) :\n",
    "        result = []\n",
    "        start = i\n",
    "        score = 0\n",
    "\n",
    "        for j in range(len(weak)) :\n",
    "            seq = j+i\n",
    "            r = seq%len(weak)\n",
    "\n",
    "            if seq > len(weak)-1 :\n",
    "                result.append(weak[r]+n)\n",
    "            else :\n",
    "                result.append(weak[r])\n",
    "\n",
    "        if len(result) > 1 :\n",
    "            for k in range(len(result)-1) :\n",
    "                score += abs(result[k+1]-result[k])\n",
    "        else :\n",
    "            score = 1\n",
    "\n",
    "        total.append(score)\n",
    "        \n",
    "    dist.sort()\n",
    "    cover = 0\n",
    "    count = 0\n",
    "\n",
    "    while dist :\n",
    "        flag = False\n",
    "        count += 1\n",
    "        cover += dist.pop()\n",
    "\n",
    "        for score in total :\n",
    "            if cover >= score-1 :\n",
    "                flag = True\n",
    "                break\n",
    "\n",
    "        if flag :\n",
    "            break\n",
    "            \n",
    "    if flag :\n",
    "        return count\n",
    "    else :\n",
    "        return -1"
   ]
  }
 ],
 "metadata": {
  "kernelspec": {
   "display_name": "Python 3",
   "language": "python",
   "name": "python3"
  },
  "language_info": {
   "codemirror_mode": {
    "name": "ipython",
    "version": 3
   },
   "file_extension": ".py",
   "mimetype": "text/x-python",
   "name": "python",
   "nbconvert_exporter": "python",
   "pygments_lexer": "ipython3",
   "version": "3.7.3"
  }
 },
 "nbformat": 4,
 "nbformat_minor": 2
}
