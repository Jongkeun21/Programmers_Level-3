{
 "cells": [
  {
   "cell_type": "markdown",
   "metadata": {},
   "source": [
    "Backtracking"
   ]
  },
  {
   "cell_type": "code",
   "execution_count": 6,
   "metadata": {},
   "outputs": [],
   "source": [
    "def boolean(parent, col) :\n",
    "    row = len(parent)\n",
    "    \n",
    "    for idx in range(row) :\n",
    "        if parent[idx] == col or abs(parent[idx] - col) == row-idx :\n",
    "            return False\n",
    "        \n",
    "    return True\n",
    "\n",
    "def DFS(n, row, parent, result) :\n",
    "    if row == n :\n",
    "        result.append(parent[:])\n",
    "        return\n",
    "    \n",
    "    for col in range(n) :\n",
    "        if boolean(parent, col) :\n",
    "            parent.append(col)\n",
    "            DFS(n, row+1, parent, result)\n",
    "            parent.pop()\n",
    "\n",
    "def solution(n) :\n",
    "    answer = []\n",
    "    DFS(n, 0, [], answer)\n",
    "    \n",
    "    return len(answer)"
   ]
  }
 ],
 "metadata": {
  "kernelspec": {
   "display_name": "Python 3",
   "language": "python",
   "name": "python3"
  },
  "language_info": {
   "codemirror_mode": {
    "name": "ipython",
    "version": 3
   },
   "file_extension": ".py",
   "mimetype": "text/x-python",
   "name": "python",
   "nbconvert_exporter": "python",
   "pygments_lexer": "ipython3",
   "version": "3.7.3"
  }
 },
 "nbformat": 4,
 "nbformat_minor": 2
}
