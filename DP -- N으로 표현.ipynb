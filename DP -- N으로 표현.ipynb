{
 "cells": [
  {
   "cell_type": "code",
   "execution_count": 1,
   "metadata": {},
   "outputs": [],
   "source": [
    "def overlap(count, N) :\n",
    "    result = ''\n",
    "    \n",
    "    for i in range(count) :\n",
    "        result += str(N)\n",
    "        \n",
    "    return int(result)\n",
    "\n",
    "def operator(num1, num2) :\n",
    "    total = []\n",
    "    total += [num1+num2, abs(num1-num2), num1*num2]\n",
    "    if num2 != 0 :\n",
    "        total.append(int(num1/num2))\n",
    "    \n",
    "    return list(set(total))\n",
    "\n",
    "def solution(N, number) :\n",
    "    flag = True\n",
    "    dic = {1: [N]}\n",
    "    count = 2\n",
    "\n",
    "    while number not in dic[count-1] :\n",
    "        if count > 8 :\n",
    "            flag = False\n",
    "            break\n",
    "\n",
    "        result = []\n",
    "        for i in range(1,count) :\n",
    "            for num1 in dic[count-i] :\n",
    "                for num2 in dic[i] :\n",
    "                    result += operator(num1, num2)\n",
    "\n",
    "        result.append(overlap(count, N))\n",
    "\n",
    "        dic[count] = result\n",
    "        count += 1\n",
    "    \n",
    "    if flag :\n",
    "        answer = len(dic)\n",
    "    else :\n",
    "        answer = -1\n",
    "    \n",
    "    return answer"
   ]
  },
  {
   "cell_type": "code",
   "execution_count": 4,
   "metadata": {},
   "outputs": [],
   "source": [
    "N = 5\n",
    "number = 12"
   ]
  },
  {
   "cell_type": "code",
   "execution_count": 5,
   "metadata": {},
   "outputs": [
    {
     "data": {
      "text/plain": [
       "4"
      ]
     },
     "execution_count": 5,
     "metadata": {},
     "output_type": "execute_result"
    }
   ],
   "source": [
    "solution(N, number)"
   ]
  }
 ],
 "metadata": {
  "kernelspec": {
   "display_name": "Python 3",
   "language": "python",
   "name": "python3"
  },
  "language_info": {
   "codemirror_mode": {
    "name": "ipython",
    "version": 3
   },
   "file_extension": ".py",
   "mimetype": "text/x-python",
   "name": "python",
   "nbconvert_exporter": "python",
   "pygments_lexer": "ipython3",
   "version": "3.5.2"
  }
 },
 "nbformat": 4,
 "nbformat_minor": 2
}
