{
 "cells": [
  {
   "cell_type": "code",
   "execution_count": null,
   "metadata": {},
   "outputs": [],
   "source": [
    "def solution(A, B) :\n",
    "    A.sort()\n",
    "    B.sort()\n",
    "    answer = 0\n",
    "    \n",
    "    for num in A :\n",
    "        min_ = num\n",
    "\n",
    "        for temp in B :\n",
    "            if temp > min_ :\n",
    "                min_ = temp\n",
    "                answer += 1\n",
    "                break\n",
    "\n",
    "        B.remove(temp)\n",
    "                \n",
    "    return answer"
   ]
  }
 ],
 "metadata": {
  "kernelspec": {
   "display_name": "Python 3",
   "language": "python",
   "name": "python3"
  },
  "language_info": {
   "codemirror_mode": {
    "name": "ipython",
    "version": 3
   },
   "file_extension": ".py",
   "mimetype": "text/x-python",
   "name": "python",
   "nbconvert_exporter": "python",
   "pygments_lexer": "ipython3",
   "version": "3.5.2"
  }
 },
 "nbformat": 4,
 "nbformat_minor": 2
}
