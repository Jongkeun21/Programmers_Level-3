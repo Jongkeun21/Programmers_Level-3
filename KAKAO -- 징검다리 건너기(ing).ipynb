{
 "cells": [
  {
   "cell_type": "markdown",
   "metadata": {},
   "source": [
    "1. 디딤돌의 숫자는 한 번 밟을 때마다 1씩 줄어든다.\n",
    "2. 디딤돌의 숫자가 0이 되면 더 이상 밟을 수 없으며, 그 다음 디딤돌로 한 번에 여러 칸을 건너 뛸 수 있다.\n",
    "3. 다음으로 밟을 수 있는 디딤돌이 여러 개인 경우 가장 가까운 디딤돌로 건너뛴다."
   ]
  },
  {
   "cell_type": "markdown",
   "metadata": {},
   "source": [
    "stones --> 디딤돌에 적힌 숫자가 순서대로 담긴 배열\n",
    "k --> 한 번에 건너뛸 수 있는 디딤돌의 최대 칸수"
   ]
  },
  {
   "cell_type": "code",
   "execution_count": 1,
   "metadata": {},
   "outputs": [],
   "source": [
    "stones = [2, 4, 5, 3, 2, 1, 4, 2, 5, 1]\n",
    "k = 3\n",
    "# return 3"
   ]
  },
  {
   "cell_type": "code",
   "execution_count": null,
   "metadata": {},
   "outputs": [],
   "source": []
  }
 ],
 "metadata": {
  "kernelspec": {
   "display_name": "Python 3",
   "language": "python",
   "name": "python3"
  },
  "language_info": {
   "codemirror_mode": {
    "name": "ipython",
    "version": 3
   },
   "file_extension": ".py",
   "mimetype": "text/x-python",
   "name": "python",
   "nbconvert_exporter": "python",
   "pygments_lexer": "ipython3",
   "version": "3.7.3"
  }
 },
 "nbformat": 4,
 "nbformat_minor": 2
}
