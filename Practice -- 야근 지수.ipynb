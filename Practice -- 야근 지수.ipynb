{
 "cells": [
  {
   "cell_type": "markdown",
   "metadata": {},
   "source": [
    "야근 피로도 = sum((남은 일의 작업량)의 제곱)\n",
    "작업량 works에 대해 야근 피로도를 최소화 한 값을 리턴"
   ]
  },
  {
   "cell_type": "code",
   "execution_count": null,
   "metadata": {},
   "outputs": [],
   "source": [
    "import heapq\n",
    "\n",
    "def solution(n, works) :\n",
    "    sum_ = sum(works)\n",
    "    \n",
    "    if sum_ <= n :\n",
    "        answer = 0\n",
    "    else :\n",
    "        minus = [(-1)*element for element in works]\n",
    "        heapq.heapify(minus)\n",
    "        \n",
    "        while n != 0 :\n",
    "            maxi = heapq.heappop(minus)\n",
    "            maxi += 1\n",
    "            heapq.heappush(minus, maxi)\n",
    "            n -= 1\n",
    "            \n",
    "        result = [element**2 for element in minus]\n",
    "        answer = sum(result)\n",
    "        \n",
    "    return answer"
   ]
  }
 ],
 "metadata": {
  "kernelspec": {
   "display_name": "Python 3",
   "language": "python",
   "name": "python3"
  },
  "language_info": {
   "codemirror_mode": {
    "name": "ipython",
    "version": 3
   },
   "file_extension": ".py",
   "mimetype": "text/x-python",
   "name": "python",
   "nbconvert_exporter": "python",
   "pygments_lexer": "ipython3",
   "version": "3.7.3"
  }
 },
 "nbformat": 4,
 "nbformat_minor": 2
}
