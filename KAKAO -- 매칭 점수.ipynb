{
 "cells": [
  {
   "cell_type": "markdown",
   "metadata": {},
   "source": [
    "1. 한 페이지에 대해서 기본점수, 외부 링크 수, 링크점수, 매칭점수를 구할 수 있다.\n",
    "2. 기본점수는 해당 페이지의 텍스트 중, 검색어가 등장하는 횟수이다. (대소문자 무시)\n",
    "3. 외부 링크 수는 해당 페이지에서 다른 외부 페이지로 연결된 링크의 개수이다.\n",
    "4. 링크점수는 해당 페이지로 링크가 걸린 다른 웹페이지의 기본점수 / 외부 링크 수의 총합이다.\n",
    "5. 매칭점수는 기본점수와 링크점수의 합으로 계산한다."
   ]
  },
  {
   "cell_type": "code",
   "execution_count": null,
   "metadata": {},
   "outputs": [],
   "source": [
    "import re\n",
    "\n",
    "def solution(word, pages) :\n",
    "    word = word.lower()\n",
    "    \n",
    "    # score\n",
    "    a = re.compile(\"[a-z]+[a-z]\")\n",
    "    # address\n",
    "    b = re.compile(\"<meta property=\\\"og:url\\\" content=\\\"(https://[\\\\S]*)\\\"\") \n",
    "    # link\n",
    "    c = re.compile(\"<a href=\\\"(https://[\\\\S]*)\\\"\")\n",
    "    \n",
    "    result = []\n",
    "    linkPoint = [0 for _ in range(len(pages))]\n",
    "    totalPoint = [0 for _ in range(len(pages))]\n",
    "\n",
    "    for page in pages :\n",
    "        score = 0\n",
    "        a_ = []\n",
    "        address = ''\n",
    "        link = []\n",
    "\n",
    "        for string in page.split() :\n",
    "            string = string.lower()\n",
    "            a_ += a.findall(string)\n",
    "\n",
    "        address = b.findall(page)[0]\n",
    "        link = c.findall(page)\n",
    "\n",
    "        for index in a_ :\n",
    "            if index == word :\n",
    "                score += 1\n",
    "\n",
    "        result.append([address, score, link])\n",
    "        \n",
    "    for i in range(len(result)) :\n",
    "        for j in range(len(result)) :\n",
    "            if i != j and result[i][0] in result[j][2] :\n",
    "                linkPoint[i] += (result[j][1]/len(result[j][2]))\n",
    "                \n",
    "    for k in range(len(linkPoint)) :\n",
    "        totalPoint[k] = linkPoint[k] + result[k][1]\n",
    "            \n",
    "    return totalPoint.index(max(totalPoint))"
   ]
  }
 ],
 "metadata": {
  "kernelspec": {
   "display_name": "Python 3",
   "language": "python",
   "name": "python3"
  },
  "language_info": {
   "codemirror_mode": {
    "name": "ipython",
    "version": 3
   },
   "file_extension": ".py",
   "mimetype": "text/x-python",
   "name": "python",
   "nbconvert_exporter": "python",
   "pygments_lexer": "ipython3",
   "version": "3.7.3"
  }
 },
 "nbformat": 4,
 "nbformat_minor": 2
}
