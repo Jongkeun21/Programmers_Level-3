{
 "cells": [
  {
   "cell_type": "markdown",
   "metadata": {},
   "source": [
    "N --> 아파트의 개수\n",
    "stations --> 기지국이 설치된 아파트 번호 배열\n",
    "W --> 전파의 도달 거리"
   ]
  },
  {
   "cell_type": "code",
   "execution_count": null,
   "metadata": {},
   "outputs": [],
   "source": [
    "def cal(var, cover) :\n",
    "    q = var // cover\n",
    "    r = var % cover\n",
    "    \n",
    "    if r > 0 :\n",
    "        q += 1\n",
    "    \n",
    "    return q\n",
    "\n",
    "def solution(n, stations, w) :\n",
    "    cover = 2*w + 1\n",
    "    count = 0\n",
    "    start = 0\n",
    "    \n",
    "    for i in range(len(stations)) :\n",
    "        left = stations[i]-w-1\n",
    "        right = stations[i]+w-1\n",
    "\n",
    "        if left <= start <= right :\n",
    "            start = right + 1\n",
    "            continue\n",
    "            \n",
    "        var = left-start\n",
    "        count += cal(var, cover)\n",
    "        start = right + 1\n",
    "        \n",
    "    if start < n :\n",
    "        var = n-start\n",
    "        count += cal(var, cover)\n",
    "        \n",
    "    return count"
   ]
  }
 ],
 "metadata": {
  "kernelspec": {
   "display_name": "Python 3",
   "language": "python",
   "name": "python3"
  },
  "language_info": {
   "codemirror_mode": {
    "name": "ipython",
    "version": 3
   },
   "file_extension": ".py",
   "mimetype": "text/x-python",
   "name": "python",
   "nbconvert_exporter": "python",
   "pygments_lexer": "ipython3",
   "version": "3.7.3"
  }
 },
 "nbformat": 4,
 "nbformat_minor": 2
}
