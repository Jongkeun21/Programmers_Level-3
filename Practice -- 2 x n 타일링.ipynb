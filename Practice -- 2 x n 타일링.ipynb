{
 "cells": [
  {
   "cell_type": "markdown",
   "metadata": {},
   "source": [
    "가로 길이가 2, 세로 길이가 1인 타일으로\n",
    "세로 길이가 2, 가로 길이가 n인 바닥을 가득 채우려고 함\n",
    "바닥을 가득 채우는 방법의 수 % 1000000007 return"
   ]
  },
  {
   "cell_type": "code",
   "execution_count": 9,
   "metadata": {},
   "outputs": [],
   "source": [
    "def cal(n) :\n",
    "    a, b = 1, 1\n",
    "\n",
    "    for i in range(n) :\n",
    "        a, b = a+b, a\n",
    "\n",
    "    return b\n",
    "\n",
    "def solution(n) :\n",
    "    answer = cal(n)%1000000007\n",
    "    \n",
    "    return answer"
   ]
  }
 ],
 "metadata": {
  "kernelspec": {
   "display_name": "Python 3",
   "language": "python",
   "name": "python3"
  },
  "language_info": {
   "codemirror_mode": {
    "name": "ipython",
    "version": 3
   },
   "file_extension": ".py",
   "mimetype": "text/x-python",
   "name": "python",
   "nbconvert_exporter": "python",
   "pygments_lexer": "ipython3",
   "version": "3.7.3"
  }
 },
 "nbformat": 4,
 "nbformat_minor": 2
}
