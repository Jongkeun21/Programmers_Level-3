{
 "cells": [
  {
   "cell_type": "code",
   "execution_count": null,
   "metadata": {},
   "outputs": [],
   "source": [
    "def solution(n, result) :\n",
    "    count = 0\n",
    "    win = {(i+1): set() for i in range(n)}\n",
    "    lose = {(j+1): set() for j in range(n)}\n",
    "    \n",
    "    for u, v in result :\n",
    "        win[u].add(v)\n",
    "        lose[v].add(u)\n",
    "    \n",
    "    for i in range(1, len(win)+1) :\n",
    "        for j in range(1, len(win)+1) :\n",
    "            if i != j :\n",
    "                if i in win[j] :\n",
    "                    win[j].update(win[i])\n",
    "                if i in lose[j] :\n",
    "                    lose[j].update(lose[i])\n",
    "                    \n",
    "    for k in range(1, len(win)+1) :\n",
    "        if len(win[k])+len(lose[k]) == n-1 :\n",
    "            count += 1\n",
    "            \n",
    "    return count"
   ]
  }
 ],
 "metadata": {
  "kernelspec": {
   "display_name": "Python 3",
   "language": "python",
   "name": "python3"
  },
  "language_info": {
   "codemirror_mode": {
    "name": "ipython",
    "version": 3
   },
   "file_extension": ".py",
   "mimetype": "text/x-python",
   "name": "python",
   "nbconvert_exporter": "python",
   "pygments_lexer": "ipython3",
   "version": "3.7.3"
  }
 },
 "nbformat": 4,
 "nbformat_minor": 2
}
