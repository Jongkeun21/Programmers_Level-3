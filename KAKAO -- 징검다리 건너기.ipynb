{
 "cells": [
  {
   "cell_type": "code",
   "execution_count": null,
   "metadata": {},
   "outputs": [],
   "source": [
    "def getCount(list, num, k) :\n",
    "    count = 0\n",
    "    \n",
    "    for i in range(len(list)) :        \n",
    "        if list[i] <= num :\n",
    "            count += 1\n",
    "        else :\n",
    "            count = 0\n",
    "            \n",
    "        if count >= k :\n",
    "            return False\n",
    "            \n",
    "    return True\n",
    "\n",
    "def solution(stones, k) :\n",
    "    left = 1\n",
    "    right = max(stones)\n",
    "\n",
    "    while left <= right :\n",
    "        mid = (left+right)//2\n",
    "        flag = getCount(stones, mid, k)\n",
    "        \n",
    "        if flag :\n",
    "            left = mid+1\n",
    "        else :\n",
    "            right = mid-1\n",
    "            \n",
    "    return left"
   ]
  }
 ],
 "metadata": {
  "kernelspec": {
   "display_name": "Python 3",
   "language": "python",
   "name": "python3"
  },
  "language_info": {
   "codemirror_mode": {
    "name": "ipython",
    "version": 3
   },
   "file_extension": ".py",
   "mimetype": "text/x-python",
   "name": "python",
   "nbconvert_exporter": "python",
   "pygments_lexer": "ipython3",
   "version": "3.7.3"
  }
 },
 "nbformat": 4,
 "nbformat_minor": 2
}
