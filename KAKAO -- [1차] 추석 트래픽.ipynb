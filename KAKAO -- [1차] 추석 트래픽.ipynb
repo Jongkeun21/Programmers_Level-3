{
 "cells": [
  {
   "cell_type": "markdown",
   "metadata": {},
   "source": [
    "- 초당 최대 처리량은 임의 시간부터 1초(1,000 ms)간 처리하는 요청의 최대 개수를 의미\n",
    "- lines 배열은 로그 문자열로 되어 있으며, 각 로그 문자열마다 요청에 대한 응답 완료시간 S 와 처리시간 T 가 공백으로 구분\n",
    "- 응답 완료시간 S는 2016년 9월 15일만 포함하여 고정 길이 2016-09-45 hh:mm:ss.sss 형식\n",
    "- 처리시간 T는 최대 소수점 셋째 자리까지 기록, 단위는 초(s)\n",
    "- ex) 2016-09-15 03:10:33.020 0.011s --> 2016년 9월 15일 오전 3시 10분 33.010초 부터 2016년 9월 15일 오전 3시 10문 33.020초까지 0.011초 동안 처리된 요청을 의미\n",
    "- 처리 시간 T의 범위는 0.001 <= T <= 3.000\n",
    "- lines 배열은 S를 기준으로 오름차순 정렬"
   ]
  },
  {
   "cell_type": "code",
   "execution_count": null,
   "metadata": {},
   "outputs": [],
   "source": [
    "import datetime\n",
    "\n",
    "def solution(lines) :\n",
    "    log_data = []\n",
    "    time_data = []\n",
    "\n",
    "    for line in lines :\n",
    "        line_split = line.split()\n",
    "        day = line_split[0].split('-')\n",
    "        time = line_split[1].split(':')\n",
    "        second = time[2].split('.')\n",
    "        spent = line_split[2][:-1].split('.')\n",
    "\n",
    "        after = datetime.datetime(int(day[0]), int(day[1]), int(day[2]), int(time[0]), int(time[1]), int(second[0]), int(second[1])*1000)\n",
    "        try :\n",
    "            before = after - datetime.timedelta(seconds = float(spent[0]), milliseconds = float(spent[1]))\n",
    "        except :\n",
    "            before = after - datetime.timedelta(seconds = float(spent[0]))\n",
    "        before = before+datetime.timedelta(milliseconds=1)\n",
    "\n",
    "        log_data.append((before, after))\n",
    "        time_data += [before, after]\n",
    "\n",
    "    count_list = []\n",
    "\n",
    "    for data in time_data :\n",
    "        count = 0\n",
    "        start = data\n",
    "        point = data + datetime.timedelta(seconds=1)\n",
    "\n",
    "        for log in log_data :\n",
    "            if not (point <= log[0] or start > log[1]) :\n",
    "                count += 1\n",
    "\n",
    "        count_list.append(count)\n",
    "        \n",
    "    return max(count_list)"
   ]
  }
 ],
 "metadata": {
  "kernelspec": {
   "display_name": "Python 3",
   "language": "python",
   "name": "python3"
  },
  "language_info": {
   "codemirror_mode": {
    "name": "ipython",
    "version": 3
   },
   "file_extension": ".py",
   "mimetype": "text/x-python",
   "name": "python",
   "nbconvert_exporter": "python",
   "pygments_lexer": "ipython3",
   "version": "3.5.2"
  }
 },
 "nbformat": 4,
 "nbformat_minor": 2
}
