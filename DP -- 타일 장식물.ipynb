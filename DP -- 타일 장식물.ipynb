{
 "cells": [
  {
   "cell_type": "code",
   "execution_count": 20,
   "metadata": {},
   "outputs": [],
   "source": [
    "def solution(N) :\n",
    "    answer = 0\n",
    "    \n",
    "    dic = {1:4, 2:6}\n",
    "    \n",
    "    for i in range(N+1) :\n",
    "        if i > 2 :\n",
    "            dic[i] = dic[i-2]+dic[i-1]\n",
    "    \n",
    "    answer = dic[N]\n",
    "    \n",
    "    return answer"
   ]
  }
 ],
 "metadata": {
  "kernelspec": {
   "display_name": "Python 3",
   "language": "python",
   "name": "python3"
  },
  "language_info": {
   "codemirror_mode": {
    "name": "ipython",
    "version": 3
   },
   "file_extension": ".py",
   "mimetype": "text/x-python",
   "name": "python",
   "nbconvert_exporter": "python",
   "pygments_lexer": "ipython3",
   "version": "3.7.3"
  }
 },
 "nbformat": 4,
 "nbformat_minor": 2
}
