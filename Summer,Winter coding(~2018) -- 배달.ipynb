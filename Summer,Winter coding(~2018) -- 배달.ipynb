{
 "cells": [
  {
   "cell_type": "code",
   "execution_count": null,
   "metadata": {},
   "outputs": [],
   "source": [
    "import heapq\n",
    "from collections import defaultdict\n",
    "\n",
    "def dijkstra(graph, start, K) :\n",
    "    distList = {i: float('inf') for i in graph}\n",
    "    distList[start] = 0\n",
    "    queue = []\n",
    "    heapq.heappush(queue, [distList[start], start])\n",
    "    \n",
    "    while queue :\n",
    "        curr_dist, curr_node = heapq.heappop(queue)\n",
    "        \n",
    "        if distList[curr_node] < curr_dist :\n",
    "            continue\n",
    "        \n",
    "        for adjacent, weight in graph[curr_node] :\n",
    "            dist = curr_dist + weight\n",
    "            \n",
    "            if dist < distList[adjacent] :                    \n",
    "                distList[adjacent] = dist\n",
    "                heapq.heappush(queue, [dist, adjacent])\n",
    "                \n",
    "    return distList\n",
    "\n",
    "def solution(N, road, K) :\n",
    "    dic = defaultdict(list)\n",
    "\n",
    "    for u, v, d in road :\n",
    "        dic[u] += [(v, d)]\n",
    "        dic[v] += [(u, d)]\n",
    "        \n",
    "    result = dijkstra(dic, 1, K)\n",
    "    \n",
    "    return len([i for i in result if result[i] <= K])"
   ]
  }
 ],
 "metadata": {
  "kernelspec": {
   "display_name": "Python 3",
   "language": "python",
   "name": "python3"
  },
  "language_info": {
   "codemirror_mode": {
    "name": "ipython",
    "version": 3
   },
   "file_extension": ".py",
   "mimetype": "text/x-python",
   "name": "python",
   "nbconvert_exporter": "python",
   "pygments_lexer": "ipython3",
   "version": "3.7.3"
  }
 },
 "nbformat": 4,
 "nbformat_minor": 2
}
