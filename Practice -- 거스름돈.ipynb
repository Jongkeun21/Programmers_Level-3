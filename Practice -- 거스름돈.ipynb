{
 "cells": [
  {
   "cell_type": "markdown",
   "metadata": {},
   "source": [
    "1. 첫 행은 동전 최솟값의 배수만 1, 나머지 0\n",
    "2. 그 다음은 0~자기 자신 전까지 위의 수 복사\n",
    "3. 자기 자신은 위의 수 +1\n",
    "4. 자기 다음은 위의 수 + n칸 이전 수\n",
    "5. 값이 너무 클 수 있으니 1,000,000,007로 나눈 나머지 사용"
   ]
  },
  {
   "cell_type": "code",
   "execution_count": 13,
   "metadata": {},
   "outputs": [],
   "source": [
    "def solution(n, money) :\n",
    "    money.sort()\n",
    "    total = [[0 for _ in range(n)] for __ in range(len(money))]\n",
    "\n",
    "    for i in range(n) :\n",
    "        if (i+1)%money[0] == 0 :\n",
    "            total[0][i] = 1\n",
    "\n",
    "    for j in range(1, len(money)) :\n",
    "        coin = money[j]\n",
    "\n",
    "        for k in range(n) :\n",
    "            if k == coin-1 :\n",
    "                total[j][k] = (total[j-1][k]+1)%1000000007\n",
    "            elif k < coin-1 :\n",
    "                total[j][k] = total[j-1][k]\n",
    "            else :\n",
    "                total[j][k] = (total[j-1][k]+total[j][k-coin])%1000000007\n",
    "                \n",
    "    return total[-1][-1]"
   ]
  }
 ],
 "metadata": {
  "kernelspec": {
   "display_name": "Python 3",
   "language": "python",
   "name": "python3"
  },
  "language_info": {
   "codemirror_mode": {
    "name": "ipython",
    "version": 3
   },
   "file_extension": ".py",
   "mimetype": "text/x-python",
   "name": "python",
   "nbconvert_exporter": "python",
   "pygments_lexer": "ipython3",
   "version": "3.7.3"
  }
 },
 "nbformat": 4,
 "nbformat_minor": 2
}
