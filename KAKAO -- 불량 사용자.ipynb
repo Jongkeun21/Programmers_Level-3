{
 "cells": [
  {
   "cell_type": "code",
   "execution_count": null,
   "metadata": {},
   "outputs": [],
   "source": [
    "from itertools import product\n",
    "\n",
    "def solution(user_id, banned_id) :\n",
    "    candidate = []\n",
    "    answer = []\n",
    "    length = len(banned_id)\n",
    "    \n",
    "    if len(user_id) == length :\n",
    "        return 1\n",
    "    else :\n",
    "        for banned in banned_id :\n",
    "            col = []\n",
    "\n",
    "            for user in user_id :\n",
    "                flag = False\n",
    "                if len(user) == len(banned) :\n",
    "                    flag = True\n",
    "                    for idx, char in enumerate(banned) :\n",
    "                        if char != '*' and char != user[idx] :\n",
    "                            flag = False\n",
    "                            break\n",
    "\n",
    "                if flag :\n",
    "                    col.append(user)\n",
    "\n",
    "            candidate.append(col)\n",
    "\n",
    "        result = list(product(*candidate))\n",
    "\n",
    "        for _tuple in result :\n",
    "            last = set(_tuple)\n",
    "\n",
    "            if len(last) == length and not last in answer :\n",
    "                answer.append(last)\n",
    "\n",
    "        return len(answer)"
   ]
  }
 ],
 "metadata": {
  "kernelspec": {
   "display_name": "Python 3",
   "language": "python",
   "name": "python3"
  },
  "language_info": {
   "codemirror_mode": {
    "name": "ipython",
    "version": 3
   },
   "file_extension": ".py",
   "mimetype": "text/x-python",
   "name": "python",
   "nbconvert_exporter": "python",
   "pygments_lexer": "ipython3",
   "version": "3.5.2"
  }
 },
 "nbformat": 4,
 "nbformat_minor": 2
}
