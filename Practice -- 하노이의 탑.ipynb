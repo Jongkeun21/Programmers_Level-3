{
 "cells": [
  {
   "cell_type": "markdown",
   "metadata": {},
   "source": [
    "1. 한 번에 하나의 원판만 옮길 수 있습니다.\n",
    "2. 큰 원판이 작은 원판 위에 있어서는 안됩니다."
   ]
  },
  {
   "cell_type": "markdown",
   "metadata": {},
   "source": [
    "하노이 탑의 세 개의 기둥을 왼쪽 부터 1번, 2번, 3번이라고 지정\n",
    "1번에 n개의 원판이 있고, 이 n개의 원판을 3번 원판으로 최소 횟수로 옮기려고 할때, 옮기는 방법을 return"
   ]
  },
  {
   "cell_type": "code",
   "execution_count": null,
   "metadata": {},
   "outputs": [],
   "source": [
    "class variables :\n",
    "    result = []\n",
    "    \n",
    "def move(_from, to) :\n",
    "    variables.result.append([_from, to])\n",
    "    \n",
    "def hanoi(N, _from, to, dropby) :\n",
    "    if N == 1 :\n",
    "        move(_from, to)\n",
    "    else :\n",
    "        hanoi(N-1, _from, dropby, to)\n",
    "        move(_from, to)\n",
    "        hanoi(N-1, dropby, to, _from)\n",
    "\n",
    "def solution(n) :\n",
    "    hanoi(n,1,3,2)\n",
    "    \n",
    "    return variables.result"
   ]
  }
 ],
 "metadata": {
  "kernelspec": {
   "display_name": "Python 3",
   "language": "python",
   "name": "python3"
  },
  "language_info": {
   "codemirror_mode": {
    "name": "ipython",
    "version": 3
   },
   "file_extension": ".py",
   "mimetype": "text/x-python",
   "name": "python",
   "nbconvert_exporter": "python",
   "pygments_lexer": "ipython3",
   "version": "3.7.3"
  }
 },
 "nbformat": 4,
 "nbformat_minor": 2
}
