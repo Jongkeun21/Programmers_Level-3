{
 "cells": [
  {
   "cell_type": "code",
   "execution_count": 1,
   "metadata": {},
   "outputs": [],
   "source": [
    "n = 6\n",
    "edge = [[3,6],[4,3],[3,2],[1,3],[1,2],[2,4],[5,2]]"
   ]
  },
  {
   "cell_type": "code",
   "execution_count": 2,
   "metadata": {},
   "outputs": [],
   "source": [
    "def solution(n, edge) :\n",
    "    dic = {}\n",
    "    mark = {i: 0 for i in range(2, n+1)}\n",
    "\n",
    "    for i in range(n) :\n",
    "        dic[i+1] = []\n",
    "    \n",
    "    for point in edge :\n",
    "        if point[0] != 1 and point[0] not in dic[point[1]] :\n",
    "            dic[point[1]] += [point[0]]\n",
    "\n",
    "        if point[1] != 1 and point[1] not in dic[point[0]] :\n",
    "            dic[point[0]] += [point[1]]\n",
    "\n",
    "    distance = 1\n",
    "    queue = dic[1]\n",
    "\n",
    "    while queue :\n",
    "        for i in range(len(queue)) :\n",
    "            node = queue.pop(0)\n",
    "\n",
    "            if not mark[node] :\n",
    "                mark[node] = distance\n",
    "\n",
    "                for j in dic[node] :\n",
    "                    queue.append(j)\n",
    "\n",
    "        distance += 1\n",
    "\n",
    "    answer = list(mark.values())\n",
    "    \n",
    "    return answer.count(max(answer))"
   ]
  }
 ],
 "metadata": {
  "kernelspec": {
   "display_name": "Python 3",
   "language": "python",
   "name": "python3"
  },
  "language_info": {
   "codemirror_mode": {
    "name": "ipython",
    "version": 3
   },
   "file_extension": ".py",
   "mimetype": "text/x-python",
   "name": "python",
   "nbconvert_exporter": "python",
   "pygments_lexer": "ipython3",
   "version": "3.7.3"
  }
 },
 "nbformat": 4,
 "nbformat_minor": 2
}
