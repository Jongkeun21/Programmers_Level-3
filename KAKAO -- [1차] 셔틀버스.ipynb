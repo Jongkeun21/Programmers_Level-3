{
 "cells": [
  {
   "cell_type": "markdown",
   "metadata": {},
   "source": [
    "1. 셔틀 운행 횟수 --> n\n",
    "2. 셔틀 운행 간격 --> t\n",
    "3. 한 셔틀에 탈 수 있는 최대 크루 수 --> m\n",
    "4. 크루가 대기열에 도착하는 시각 배열 --> timetable"
   ]
  },
  {
   "cell_type": "code",
   "execution_count": null,
   "metadata": {},
   "outputs": [],
   "source": [
    "def convert(time) :\n",
    "    hh = time//60\n",
    "    mm = time%60\n",
    "    \n",
    "    if hh < 10 :\n",
    "        H = '0'+str(hh)+':'\n",
    "    else :\n",
    "        H = str(hh)+':'\n",
    "        \n",
    "    if mm < 10 :\n",
    "        M = '0'+str(mm)\n",
    "    else :\n",
    "        M = str(mm)\n",
    "        \n",
    "    return H+M\n",
    "\n",
    "def solution(n, t, m, timetable) :\n",
    "    timetoint = []\n",
    "    init = 540-t\n",
    "    answer = 540\n",
    "    \n",
    "    for time in timetable :\n",
    "        hh, mm = time.split(':')\n",
    "        timetoint.append(int(hh)*60+int(mm))\n",
    "        \n",
    "    timetoint.sort()\n",
    "        \n",
    "    for i in range(n) :\n",
    "        init += t\n",
    "\n",
    "        if i == n-1 :\n",
    "            if len(timetoint) >= m and init >= timetoint[m-1] :\n",
    "                answer = timetoint[m-1]-1\n",
    "            else :\n",
    "                answer = init\n",
    "                break\n",
    "\n",
    "        for j in range(m) :\n",
    "            if timetoint[0] <= init :\n",
    "                timetoint = timetoint[1:]\n",
    "                \n",
    "    return convert(answer)"
   ]
  }
 ],
 "metadata": {
  "kernelspec": {
   "display_name": "Python 3",
   "language": "python",
   "name": "python3"
  },
  "language_info": {
   "codemirror_mode": {
    "name": "ipython",
    "version": 3
   },
   "file_extension": ".py",
   "mimetype": "text/x-python",
   "name": "python",
   "nbconvert_exporter": "python",
   "pygments_lexer": "ipython3",
   "version": "3.7.3"
  }
 },
 "nbformat": 4,
 "nbformat_minor": 2
}
