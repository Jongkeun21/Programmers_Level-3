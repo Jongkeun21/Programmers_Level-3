{
 "cells": [
  {
   "cell_type": "code",
   "execution_count": 44,
   "metadata": {},
   "outputs": [],
   "source": [
    "def solution(n) :\n",
    "    \n",
    "    dic = {1: [0]}\n",
    "\n",
    "    def origami(count) :\n",
    "        if count not in dic :\n",
    "            before = origami(count-1)\n",
    "            dic[count] = before + [0] + [(element+1)%2 for element in before[::-1]]\n",
    "\n",
    "        return dic[count]\n",
    "    \n",
    "    return origami(n)"
   ]
  }
 ],
 "metadata": {
  "kernelspec": {
   "display_name": "Python 3",
   "language": "python",
   "name": "python3"
  },
  "language_info": {
   "codemirror_mode": {
    "name": "ipython",
    "version": 3
   },
   "file_extension": ".py",
   "mimetype": "text/x-python",
   "name": "python",
   "nbconvert_exporter": "python",
   "pygments_lexer": "ipython3",
   "version": "3.7.3"
  }
 },
 "nbformat": 4,
 "nbformat_minor": 2
}
